{
 "cells": [
  {
   "cell_type": "markdown",
   "metadata": {},
   "source": [
    "<h3 style=\"color:RED\">Importing the required modules</h3>"
   ]
  },
  {
   "cell_type": "code",
   "execution_count": 1,
   "metadata": {},
   "outputs": [],
   "source": [
    "import sys\n",
    "import numpy as np\n",
    "import pandas as pd\n",
    "import argparse\n",
    "from sklearn import metrics\n",
    "from sklearn.model_selection import train_test_split\n",
    "from random import shuffle"
   ]
  },
  {
   "cell_type": "code",
   "execution_count": 2,
   "metadata": {},
   "outputs": [
    {
     "name": "stderr",
     "output_type": "stream",
     "text": [
      "2023-10-18 17:06:49.908813: I tensorflow/tsl/cuda/cudart_stub.cc:28] Could not find cuda drivers on your machine, GPU will not be used.\n",
      "2023-10-18 17:06:58.033389: E tensorflow/compiler/xla/stream_executor/cuda/cuda_dnn.cc:9342] Unable to register cuDNN factory: Attempting to register factory for plugin cuDNN when one has already been registered\n",
      "2023-10-18 17:06:58.033470: E tensorflow/compiler/xla/stream_executor/cuda/cuda_fft.cc:609] Unable to register cuFFT factory: Attempting to register factory for plugin cuFFT when one has already been registered\n",
      "2023-10-18 17:06:58.066352: E tensorflow/compiler/xla/stream_executor/cuda/cuda_blas.cc:1518] Unable to register cuBLAS factory: Attempting to register factory for plugin cuBLAS when one has already been registered\n",
      "2023-10-18 17:06:59.415104: I tensorflow/tsl/cuda/cudart_stub.cc:28] Could not find cuda drivers on your machine, GPU will not be used.\n",
      "2023-10-18 17:06:59.419206: I tensorflow/core/platform/cpu_feature_guard.cc:182] This TensorFlow binary is optimized to use available CPU instructions in performance-critical operations.\n",
      "To enable the following instructions: AVX2 FMA, in other operations, rebuild TensorFlow with the appropriate compiler flags.\n",
      "2023-10-18 17:07:14.766624: W tensorflow/compiler/tf2tensorrt/utils/py_utils.cc:38] TF-TRT Warning: Could not find TensorRT\n"
     ]
    }
   ],
   "source": [
    "import tensorflow as tf\n",
    "import sklearn as sk\n",
    "from tensorflow.keras import layers\n",
    "from tensorflow.keras.preprocessing.sequence import pad_sequences\n",
    "from tensorflow.keras.preprocessing.text import one_hot\n",
    "from tensorflow.keras.models import load_model\n",
    "from tensorflow.keras.utils import to_categorical"
   ]
  },
  {
   "cell_type": "markdown",
   "metadata": {},
   "source": [
    "<h3 style =\"color : Red\">Add ArgumentParser</h3>"
   ]
  },
  {
   "cell_type": "code",
   "execution_count": 3,
   "metadata": {},
   "outputs": [],
   "source": [
    "parser = argparse.ArgumentParser()"
   ]
  },
  {
   "cell_type": "markdown",
   "metadata": {},
   "source": [
    "<h4 style = \"color : red\"> Adding the argparse for dataset</h4>"
   ]
  },
  {
   "cell_type": "code",
   "execution_count": 4,
   "metadata": {},
   "outputs": [
    {
     "data": {
      "text/plain": [
       "_StoreAction(option_strings=['-D', '--dataset_file'], dest='dataset_file', nargs=None, const=None, default='dataset_more_lables.dat', type=<class 'str'>, choices=None, required=True, help='File containing data for training', metavar=None)"
      ]
     },
     "execution_count": 4,
     "metadata": {},
     "output_type": "execute_result"
    }
   ],
   "source": [
    "parser.add_argument(\n",
    "    '-D',\n",
    "    '--dataset_file',\n",
    "    help='File containing data for training',\n",
    "    type=str,\n",
    "    required=True,\n",
    "    default=\"dataset_more_lables.dat\",\n",
    ")"
   ]
  },
  {
   "cell_type": "markdown",
   "metadata": {},
   "source": [
    "<h4 style = \"color:RED\"> Adding the argparse for Max Letters</h4>"
   ]
  },
  {
   "cell_type": "code",
   "execution_count": 5,
   "metadata": {},
   "outputs": [
    {
     "data": {
      "text/plain": [
       "_StoreAction(option_strings=['-M', '--max_letters'], dest='max_letters', nargs=None, const=None, default=500, type=<class 'int'>, choices=None, required=False, help='Max sequence length', metavar=None)"
      ]
     },
     "execution_count": 5,
     "metadata": {},
     "output_type": "execute_result"
    }
   ],
   "source": [
    "parser.add_argument(\n",
    "    '-M',\n",
    "    '--max_letters',\n",
    "    help='Max sequence length',\n",
    "    type=int,\n",
    "    required=False,\n",
    "    default=500,\n",
    ")"
   ]
  },
  {
   "cell_type": "markdown",
   "metadata": {},
   "source": [
    "<h4 style = \"color:RED\"> Adding the argparse for Min Letters</h4>"
   ]
  },
  {
   "cell_type": "code",
   "execution_count": 6,
   "metadata": {},
   "outputs": [
    {
     "data": {
      "text/plain": [
       "_StoreAction(option_strings=['-m', '--min_letters'], dest='min_letters', nargs=None, const=None, default=5, type=<class 'int'>, choices=None, required=False, help='Min sequence length', metavar=None)"
      ]
     },
     "execution_count": 6,
     "metadata": {},
     "output_type": "execute_result"
    }
   ],
   "source": [
    "parser.add_argument(\n",
    "    '-m',\n",
    "    '--min_letters',\n",
    "    help='Min sequence length',\n",
    "    type=int,\n",
    "    required=False,\n",
    "    default=5,\n",
    ")"
   ]
  },
  {
   "cell_type": "markdown",
   "metadata": {},
   "source": [
    "<h4 style = \"color:RED\"> Adding the argparse for Verbosity</h4>"
   ]
  },
  {
   "cell_type": "code",
   "execution_count": 7,
   "metadata": {},
   "outputs": [
    {
     "data": {
      "text/plain": [
       "_StoreAction(option_strings=['-v', '--verbose'], dest='verbose', nargs=None, const=None, default=False, type=<class 'bool'>, choices=None, required=False, help='Level of verbosity', metavar=None)"
      ]
     },
     "execution_count": 7,
     "metadata": {},
     "output_type": "execute_result"
    }
   ],
   "source": [
    "parser.add_argument(\n",
    "    '-v',\n",
    "    '--verbose',\n",
    "    help='Level of verbosity',\n",
    "    type=bool,\n",
    "    required=False,\n",
    "    default=False,\n",
    ")"
   ]
  },
  {
   "cell_type": "markdown",
   "metadata": {},
   "source": [
    "<h4 style = \"color:RED\"> Adding the argparse for Size of the minibatch</h4>"
   ]
  },
  {
   "cell_type": "code",
   "execution_count": 8,
   "metadata": {},
   "outputs": [
    {
     "data": {
      "text/plain": [
       "_StoreAction(option_strings=['-b', '--batch_size'], dest='batch_size', nargs=None, const=None, default=100, type=<class 'int'>, choices=None, required=False, help='Size of the minibatch', metavar=None)"
      ]
     },
     "execution_count": 8,
     "metadata": {},
     "output_type": "execute_result"
    }
   ],
   "source": [
    "parser.add_argument(\n",
    "    '-b',\n",
    "    '--batch_size',\n",
    "    help='Size of the minibatch',\n",
    "    type=int,\n",
    "    required=False,\n",
    "    default=100,\n",
    ")"
   ]
  },
  {
   "cell_type": "markdown",
   "metadata": {},
   "source": [
    "<h4 style = \"color:RED\"> Adding the argparse for Number of epochs in training</h4>"
   ]
  },
  {
   "cell_type": "code",
   "execution_count": 9,
   "metadata": {},
   "outputs": [
    {
     "data": {
      "text/plain": [
       "_StoreAction(option_strings=['-e', '--epochs'], dest='epochs', nargs=None, const=None, default=200, type=<class 'int'>, choices=None, required=False, help='Number of epochs in training', metavar=None)"
      ]
     },
     "execution_count": 9,
     "metadata": {},
     "output_type": "execute_result"
    }
   ],
   "source": [
    "parser.add_argument(\n",
    "    '-e',\n",
    "    '--epochs',\n",
    "    help='Number of epochs in training',\n",
    "    type=int,\n",
    "    required=False,\n",
    "    default=200,\n",
    ")"
   ]
  },
  {
   "cell_type": "markdown",
   "metadata": {},
   "source": [
    "<h4 style = \"color:RED\"> Adding the argparse for Where to store the train model</h4>"
   ]
  },
  {
   "cell_type": "code",
   "execution_count": 10,
   "metadata": {},
   "outputs": [
    {
     "data": {
      "text/plain": [
       "_StoreAction(option_strings=['-S', '--Save_file'], dest='Save_file', nargs=None, const=None, default=None, type=<class 'str'>, choices=None, required=False, help='Where to store the train model', metavar=None)"
      ]
     },
     "execution_count": 10,
     "metadata": {},
     "output_type": "execute_result"
    }
   ],
   "source": [
    "parser.add_argument(\n",
    "    '-S',\n",
    "    '--Save_file',\n",
    "    help='Where to store the train model',\n",
    "    type=str,\n",
    "    required=False,\n",
    ")"
   ]
  },
  {
   "cell_type": "code",
   "execution_count": 11,
   "metadata": {},
   "outputs": [],
   "source": [
    "args = parser.parse_args([\"-D\", \"dataset_more_labels.dat\", \"-M\", \"500\", \"-m\", \"5\", \"-v\",\"True\", \"-b\", \"100\", \"-e\", \"200\", \"-S\", \"model.h5\"])"
   ]
  },
  {
   "cell_type": "code",
   "execution_count": 12,
   "metadata": {},
   "outputs": [
    {
     "name": "stdout",
     "output_type": "stream",
     "text": [
      "Numpy: 1.24.3\n",
      "TensorFlow: 2.14.0\n",
      "Pandas: 2.0.3\n",
      "Sklearn: 1.3.0\n"
     ]
    }
   ],
   "source": [
    "if args.verbose:\n",
    "    print(f'Numpy: {np.__version__}')\n",
    "    print(f'TensorFlow: {tf.__version__}')\n",
    "    print(f'Pandas: {pd.__version__}')\n",
    "    print(f'Sklearn: {sk.__version__}')\n"
   ]
  },
  {
   "cell_type": "markdown",
   "metadata": {},
   "source": [
    "<h3 style='color:Red'> Reading Dataset</h3>"
   ]
  },
  {
   "cell_type": "code",
   "execution_count": 13,
   "metadata": {},
   "outputs": [],
   "source": [
    "f = lambda x: x[: args.max_letters]\n",
    "with open(args.dataset_file, 'rb') as csvfile:\n",
    "    df = pd.read_csv(\n",
    "        csvfile,\n",
    "        delimiter='|',\n",
    "        names=['note', 'label', 'model_id', 'state'],\n",
    "        skipinitialspace=True,\n",
    "        converters={'state': f},\n",
    "    )"
   ]
  },
  {
   "cell_type": "code",
   "execution_count": 14,
   "metadata": {},
   "outputs": [],
   "source": [
    "if args.verbose:\n",
    "    df.describe()"
   ]
  },
  {
   "cell_type": "code",
   "execution_count": 15,
   "metadata": {},
   "outputs": [],
   "source": [
    "df.dropna(axis=0, how='any', inplace=True)\n",
    "df.drop(axis=1, columns=['note', 'model_id'], inplace=True)"
   ]
  },
  {
   "cell_type": "code",
   "execution_count": 16,
   "metadata": {},
   "outputs": [],
   "source": [
    "indexNames = df[df['state'].str.len() < args.min_letters].index\n",
    "df.drop(indexNames, inplace=True)"
   ]
  },
  {
   "cell_type": "code",
   "execution_count": 17,
   "metadata": {},
   "outputs": [],
   "source": [
    "df.loc[df.label.str.contains('Normal'), 'label'] = 'Normal'\n",
    "df.loc[df.label.str.contains('Botnet'), 'label'] = 'Malicious'\n",
    "df.loc[df.label.str.contains('Malware'), 'label'] = 'Malicious'"
   ]
  },
  {
   "cell_type": "markdown",
   "metadata": {},
   "source": [
    "<h4 style=\"color:red\"> Lableing the data "
   ]
  },
  {
   "cell_type": "code",
   "execution_count": 18,
   "metadata": {},
   "outputs": [
    {
     "name": "stdout",
     "output_type": "stream",
     "text": [
      "0     55.v.e.e.E.v.e.E.v.E.E.v.v.e.v.v.e.e.e.e.v.v.e...\n",
      "1     22,b,b,S*S,b,b,b,b,b,b,b,b,b,b,b,b,b,b,b,b,b,b...\n",
      "2     11*R,R.r.R.r.r.r.R.r.r.r.r.v.v.B.B.r.A.r.A.R.R...\n",
      "3     11.0000000000000000000000000000000000000000000...\n",
      "4     12*S+b+b+b+a+b+b+a+a+a+00RR+A+00000000000SS+b+...\n",
      "                            ...                        \n",
      "58                              11*00000000000000S0000r\n",
      "60                      11*R,r,R+a+R.R.R.R,a,a,r+A+a+a+\n",
      "63                        11.R,R.R,R.R,R.R.R.R.R.R.R.R.\n",
      "64    44.v.U+U.d.u.V.V.V.D.V.U.u.u.U.V+d+U.V.U+U,U.U...\n",
      "65                                          55*V.R,0RV*\n",
      "Name: state, Length: 62, dtype: object\n"
     ]
    }
   ],
   "source": [
    "df.label.replace('Malicious', 1, inplace=True)\n",
    "df.label.replace('Normal', 0, inplace=True)\n",
    "print(df['state'])"
   ]
  },
  {
   "cell_type": "markdown",
   "metadata": {},
   "source": [
    "<h3 style='color:Red'>Convert each of the stratosphere letters to an integer. There are 50</h3>"
   ]
  },
  {
   "cell_type": "code",
   "execution_count": 19,
   "metadata": {},
   "outputs": [
    {
     "name": "stdout",
     "output_type": "stream",
     "text": [
      "{'a': 0.0, 'b': 1.0, 'c': 2.0, 'd': 3.0, 'e': 4.0, 'f': 5.0, 'g': 6.0, 'h': 7.0, 'i': 8.0, 'A': 9.0, 'B': 10.0, 'C': 11.0, 'D': 12.0, 'E': 13.0, 'F': 14.0, 'G': 15.0, 'H': 16.0, 'I': 17.0, 'r': 18.0, 's': 19.0, 't': 20.0, 'u': 21.0, 'v': 22.0, 'w': 23.0, 'x': 24.0, 'y': 25.0, 'z': 26.0, 'R': 27.0, 'S': 28.0, 'T': 29.0, 'U': 30.0, 'V': 31.0, 'W': 32.0, 'X': 33.0, 'Y': 34.0, 'Z': 35.0, '1': 36.0, '2': 37.0, '3': 38.0, '4': 39.0, '5': 40.0, '6': 41.0, '7': 42.0, '8': 43.0, '9': 44.0, '0': 45.0, ',': 46.0, '.': 47.0, '+': 48.0, '*': 49.0}\n",
      "There are 50 letters in total. From letter index 0.0 to letter index 49.0.\n"
     ]
    }
   ],
   "source": [
    "vocabulary = list('abcdefghiABCDEFGHIrstuvwxyzRSTUVWXYZ1234567890,.+*')\n",
    "int_of_letters = {}\n",
    "for i, letter in enumerate(vocabulary):\n",
    "    int_of_letters[letter] = float(i)\n",
    "print(int_of_letters)\n",
    "if args.verbose:\n",
    "    print(\n",
    "        f'There are {len(int_of_letters)} letters in total. From letter index {min(int_of_letters.values())} to letter index {max(int_of_letters.values())}.'\n",
    "    )\n",
    "vocabulary_size = len(int_of_letters)"
   ]
  },
  {
   "cell_type": "code",
   "execution_count": 20,
   "metadata": {},
   "outputs": [
    {
     "name": "stdout",
     "output_type": "stream",
     "text": [
      "0     55.v.e.e.E.v.e.E.v.E.E.v.v.e.v.v.e.e.e.e.v.v.e...\n",
      "1     22,b,b,S*S,b,b,b,b,b,b,b,b,b,b,b,b,b,b,b,b,b,b...\n",
      "2     11*R,R.r.R.r.r.r.R.r.r.r.r.v.v.B.B.r.A.r.A.R.R...\n",
      "3     11.0000000000000000000000000000000000000000000...\n",
      "4     12*S+b+b+b+a+b+b+a+a+a+00RR+A+00000000000SS+b+...\n",
      "                            ...                        \n",
      "58                              11*00000000000000S0000r\n",
      "60                      11*R,r,R+a+R.R.R.R,a,a,r+A+a+a+\n",
      "63                        11.R,R.R,R.R,R.R.R.R.R.R.R.R.\n",
      "64    44.v.U+U.d.u.V.V.V.D.V.U.u.u.U.V+d+U.V.U+U,U.U...\n",
      "65                                          55*V.R,0RV*\n",
      "Name: state, Length: 62, dtype: object\n"
     ]
    }
   ],
   "source": [
    "# Change the letters in the state to an integer representing it uniquely. We 'encode' them.\n",
    "print(df['state'])\n",
    "df['state'] = df['state'].apply(lambda x: [[int_of_letters[i]] for i in x])\n",
    "features_per_sample = 1"
   ]
  },
  {
   "cell_type": "code",
   "execution_count": 21,
   "metadata": {},
   "outputs": [
    {
     "name": "stdout",
     "output_type": "stream",
     "text": [
      "There are 62 outtuples\n",
      "[1 1 1 1 1 0 0 0 0 1 1 1 1 1 1 1 0 0 0 0 0 0 0 1 1 1 1 1 1 1 1 1 1 1 1 1 1\n",
      " 1 1 1 1 1 1 1 1 1 1 1 1 1 1 1 1 1 1 1 1 0 1 1 0 0]\n",
      "There are 62 labels\n",
      "The max len of the letters in all outtuples is: 500\n",
      "x_data type <class 'numpy.ndarray'> of shape (62,). x_data[0] type is <class 'list'>\n",
      "x_data[0] is [[40.0], [40.0], [47.0], [22.0], [47.0], [4.0], [47.0], [4.0], [47.0], [13.0], [47.0], [22.0], [47.0], [4.0], [47.0], [13.0], [47.0], [22.0], [47.0], [13.0], [47.0], [13.0], [47.0], [22.0], [47.0], [22.0], [47.0], [4.0], [47.0], [22.0], [47.0], [22.0], [47.0], [4.0], [47.0], [4.0], [47.0], [4.0], [47.0], [4.0], [47.0], [22.0], [47.0], [22.0], [47.0], [4.0], [47.0], [22.0], [47.0], [22.0], [47.0], [22.0], [47.0], [22.0], [47.0], [22.0], [47.0], [4.0], [47.0], [22.0], [47.0], [22.0], [47.0], [22.0], [47.0], [4.0], [47.0], [4.0], [47.0], [4.0], [47.0], [4.0], [47.0], [4.0], [47.0], [4.0], [47.0], [22.0], [47.0], [13.0], [47.0], [13.0], [47.0], [13.0], [47.0], [22.0], [47.0], [22.0], [47.0], [22.0], [47.0], [4.0], [47.0], [22.0], [47.0], [22.0], [47.0], [4.0], [47.0], [22.0], [47.0], [22.0], [47.0], [22.0], [47.0], [22.0], [47.0], [4.0], [47.0], [4.0], [47.0], [4.0], [47.0], [4.0], [47.0], [4.0], [47.0], [4.0], [47.0], [22.0], [47.0], [13.0], [47.0], [22.0], [47.0], [22.0], [47.0], [22.0], [47.0], [4.0], [47.0], [4.0], [47.0], [22.0], [47.0], [13.0], [47.0], [4.0], [47.0], [22.0], [47.0], [4.0], [47.0], [22.0], [47.0], [22.0], [47.0], [4.0], [47.0], [4.0], [47.0], [4.0], [47.0], [31.0], [47.0], [31.0], [47.0], [4.0], [47.0], [4.0], [47.0], [4.0], [47.0], [4.0], [47.0], [22.0], [47.0], [13.0], [47.0], [22.0], [47.0], [22.0], [47.0], [22.0], [47.0], [4.0], [47.0], [31.0], [47.0], [31.0], [47.0], [4.0], [47.0], [4.0], [47.0], [13.0], [47.0], [13.0], [47.0], [4.0], [47.0], [4.0], [47.0], [4.0], [47.0], [4.0], [47.0], [22.0], [47.0], [4.0], [47.0], [22.0], [47.0], [4.0], [47.0], [4.0], [47.0], [4.0], [47.0], [4.0], [47.0], [4.0], [47.0], [4.0], [47.0], [4.0], [47.0], [4.0], [47.0], [13.0], [47.0], [4.0], [47.0], [4.0], [47.0], [22.0], [47.0], [4.0], [47.0], [22.0], [47.0], [4.0], [47.0], [4.0], [47.0], [22.0], [47.0], [22.0], [47.0], [4.0], [47.0], [4.0], [47.0], [4.0], [47.0], [4.0], [47.0], [4.0], [47.0], [4.0], [47.0], [4.0], [47.0], [4.0], [47.0], [4.0], [47.0], [4.0], [47.0], [4.0], [47.0], [4.0], [47.0], [4.0], [47.0], [4.0], [47.0], [4.0], [47.0], [4.0], [47.0], [4.0], [47.0], [4.0], [47.0], [4.0], [47.0], [4.0], [47.0], [22.0], [47.0], [22.0], [47.0], [13.0], [47.0], [13.0], [47.0], [13.0], [47.0], [4.0], [47.0], [4.0], [47.0], [4.0], [47.0], [4.0], [47.0], [4.0], [47.0], [22.0], [47.0], [22.0], [47.0], [4.0], [47.0], [4.0], [47.0], [4.0], [47.0], [4.0], [47.0], [4.0], [47.0], [4.0], [47.0], [4.0], [47.0], [4.0], [47.0], [4.0], [47.0], [4.0], [47.0], [4.0], [47.0], [4.0], [47.0], [4.0], [47.0], [4.0], [47.0], [22.0], [47.0], [22.0], [47.0], [4.0], [47.0], [4.0], [47.0], [4.0], [47.0], [22.0], [47.0], [22.0], [47.0], [4.0], [47.0], [4.0], [47.0], [4.0], [47.0], [4.0], [47.0], [13.0], [47.0], [4.0], [47.0], [4.0], [47.0], [4.0], [47.0], [4.0], [47.0], [22.0], [47.0], [22.0], [47.0], [4.0], [47.0], [4.0], [47.0], [4.0], [47.0], [13.0], [47.0], [13.0], [47.0], [4.0], [47.0], [4.0], [47.0], [13.0], [47.0], [22.0], [47.0], [22.0], [47.0], [4.0], [47.0], [4.0], [47.0], [4.0], [47.0], [4.0], [47.0], [4.0], [47.0], [4.0], [47.0], [4.0], [47.0], [4.0], [47.0], [4.0], [47.0], [4.0], [47.0], [13.0], [47.0], [4.0], [47.0], [4.0], [47.0], [4.0], [47.0], [4.0], [47.0], [4.0], [47.0], [13.0], [47.0], [4.0], [47.0], [4.0], [47.0], [4.0], [47.0], [4.0], [47.0], [4.0], [47.0], [4.0], [47.0], [4.0], [47.0], [4.0], [47.0], [4.0], [47.0], [22.0], [47.0], [22.0], [47.0], [4.0], [47.0], [4.0], [47.0], [22.0], [47.0], [22.0], [47.0], [4.0], [47.0], [4.0], [47.0], [4.0], [47.0], [4.0], [47.0], [4.0], [47.0], [4.0], [47.0], [13.0], [47.0], [4.0], [47.0], [4.0], [47.0], [4.0], [47.0], [4.0], [47.0], [4.0], [47.0], [4.0], [47.0], [4.0], [47.0], [4.0], [47.0], [4.0], [47.0], [4.0], [47.0], [4.0], [47.0], [4.0], [47.0], [4.0], [47.0], [4.0], [47.0], [4.0], [47.0], [4.0], [47.0], [4.0], [47.0], [22.0]]\n"
     ]
    }
   ],
   "source": [
    "# Convert the data into the appropriate shape\n",
    "# x_data is a list of lists. The 1st dimension is the outtuple, the second the letter. Each letter is now an int value. shape=(num_outuples, features_per_sample)\n",
    "x_data = df['state'].to_numpy()\n",
    "if args.verbose:\n",
    "    print(f'There are {len(x_data)} outtuples')\n",
    "# y_data is a list of ints that are 0 or 1. One integer per outtupple. shape=(num_outuples, 1)\n",
    "y_data = df['label'].to_numpy()\n",
    "print(y_data)\n",
    "if args.verbose:\n",
    "    print(f'There are {len(y_data)} labels')\n",
    "# Search the sample with max len in the training. It should be already cuted by the csv_read function to a max. Here we just check\n",
    "max_length_of_outtupple = max([len(sublist) for sublist in df.state.to_list()])\n",
    "if args.verbose:\n",
    "    print(\n",
    "        f'The max len of the letters in all outtuples is: {max_length_of_outtupple}'\n",
    "    )\n",
    "if args.verbose:\n",
    "    print(\n",
    "        f'x_data type {type(x_data)} of shape {x_data.shape}. x_data[0] type is {type(x_data[0])}'\n",
    "    )\n",
    "    print(f'x_data[0] is {x_data[0]}')\n"
   ]
  },
  {
   "cell_type": "code",
   "execution_count": 22,
   "metadata": {},
   "outputs": [
    {
     "name": "stdout",
     "output_type": "stream",
     "text": [
      "padded_x_data is of type <class 'numpy.ndarray'>, of shape (62, 500, 1). padded_x_data[0] type is <class 'numpy.ndarray'>. Shape of second list is (500, 1)\n"
     ]
    }
   ],
   "source": [
    "#Padding\n",
    "\n",
    "# If the input are integers\n",
    "padded_x_data = pad_sequences(\n",
    "    x_data, maxlen=max_length_of_outtupple, padding='post'\n",
    ")\n",
    "if args.verbose:\n",
    "    print(\n",
    "        f'padded_x_data is of type {type(padded_x_data)}, of shape {padded_x_data.shape}. padded_x_data[0] type is {type(padded_x_data[0])}. Shape of second list is {padded_x_data[0].shape}'\n",
    "    )"
   ]
  },
  {
   "cell_type": "code",
   "execution_count": 23,
   "metadata": {},
   "outputs": [],
   "source": [
    "train_x_data = padded_x_data\n",
    "train_y_data = y_data\n",
    "num_outtuples = train_x_data.shape"
   ]
  },
  {
   "cell_type": "code",
   "execution_count": 27,
   "metadata": {},
   "outputs": [
    {
     "name": "stdout",
     "output_type": "stream",
     "text": [
      "We have as shape: Num of samples: (62, 500, 1), Num of letters per sample (timesteps): 500, each letter has 1 values. The input shape is (500, 1)\n"
     ]
    }
   ],
   "source": [
    "timesteps = max_length_of_outtupple\n",
    "input_shape = (timesteps, features_per_sample)\n",
    "print(\n",
    "    f'We have as shape: Num of samples: {num_outtuples}, Num of letters per sample (timesteps): {timesteps}, each letter has {features_per_sample} values. The input shape is {input_shape}'\n",
    ")"
   ]
  },
  {
   "cell_type": "code",
   "execution_count": 28,
   "metadata": {},
   "outputs": [],
   "source": [
    "model = tf.keras.models.Sequential()\n",
    "model.add(layers.Embedding(vocabulary_size, 16, mask_zero=True))"
   ]
  },
  {
   "cell_type": "code",
   "execution_count": 29,
   "metadata": {},
   "outputs": [],
   "source": [
    "model.add(\n",
    "    layers.Bidirectional(\n",
    "        layers.GRU(32, return_sequences=False), merge_mode='concat'\n",
    "    )\n",
    ")\n",
    "model.add(layers.Dense(32, activation='relu'))\n",
    "model.add(layers.Dropout(0.5))\n",
    "model.add(layers.Dense(1, activation='sigmoid'))"
   ]
  },
  {
   "cell_type": "code",
   "execution_count": 30,
   "metadata": {},
   "outputs": [],
   "source": [
    "model.compile(\n",
    "    loss='binary_crossentropy',\n",
    "    optimizer=tf.keras.optimizers.RMSprop(learning_rate=0.0001, momentum=0.05),\n",
    "    metrics=['accuracy'],\n",
    ")"
   ]
  },
  {
   "cell_type": "code",
   "execution_count": 31,
   "metadata": {},
   "outputs": [
    {
     "name": "stdout",
     "output_type": "stream",
     "text": [
      "Epoch 1/200\n",
      "1/1 [==============================] - 31s 31s/step - loss: 0.6960 - accuracy: 0.3455 - val_loss: 0.6931 - val_accuracy: 0.5714\n",
      "Epoch 2/200\n",
      "1/1 [==============================] - 2s 2s/step - loss: 0.6952 - accuracy: 0.3273 - val_loss: 0.6928 - val_accuracy: 0.5714\n",
      "Epoch 3/200\n",
      "1/1 [==============================] - 1s 1s/step - loss: 0.6926 - accuracy: 0.5091 - val_loss: 0.6926 - val_accuracy: 0.5714\n",
      "Epoch 4/200\n",
      "1/1 [==============================] - 2s 2s/step - loss: 0.6901 - accuracy: 0.6364 - val_loss: 0.6924 - val_accuracy: 0.4286\n",
      "Epoch 5/200\n",
      "1/1 [==============================] - 1s 1s/step - loss: 0.6921 - accuracy: 0.5273 - val_loss: 0.6922 - val_accuracy: 0.4286\n",
      "Epoch 6/200\n",
      "1/1 [==============================] - 2s 2s/step - loss: 0.6877 - accuracy: 0.7091 - val_loss: 0.6920 - val_accuracy: 0.5714\n",
      "Epoch 7/200\n",
      "1/1 [==============================] - 2s 2s/step - loss: 0.6882 - accuracy: 0.6727 - val_loss: 0.6919 - val_accuracy: 0.5714\n",
      "Epoch 8/200\n",
      "1/1 [==============================] - 1s 1s/step - loss: 0.6874 - accuracy: 0.7091 - val_loss: 0.6918 - val_accuracy: 0.5714\n",
      "Epoch 9/200\n",
      "1/1 [==============================] - 1s 1s/step - loss: 0.6891 - accuracy: 0.7091 - val_loss: 0.6918 - val_accuracy: 0.5714\n",
      "Epoch 10/200\n",
      "1/1 [==============================] - 1s 1s/step - loss: 0.6871 - accuracy: 0.7091 - val_loss: 0.6917 - val_accuracy: 0.5714\n",
      "Epoch 11/200\n",
      "1/1 [==============================] - 1s 932ms/step - loss: 0.6870 - accuracy: 0.7455 - val_loss: 0.6915 - val_accuracy: 0.5714\n",
      "Epoch 12/200\n",
      "1/1 [==============================] - 1s 922ms/step - loss: 0.6848 - accuracy: 0.7636 - val_loss: 0.6915 - val_accuracy: 0.7143\n",
      "Epoch 13/200\n",
      "1/1 [==============================] - 1s 1s/step - loss: 0.6866 - accuracy: 0.7636 - val_loss: 0.6914 - val_accuracy: 0.7143\n",
      "Epoch 14/200\n",
      "1/1 [==============================] - 1s 1s/step - loss: 0.6859 - accuracy: 0.7455 - val_loss: 0.6913 - val_accuracy: 0.7143\n",
      "Epoch 15/200\n",
      "1/1 [==============================] - 1s 1s/step - loss: 0.6842 - accuracy: 0.7455 - val_loss: 0.6912 - val_accuracy: 0.7143\n",
      "Epoch 16/200\n",
      "1/1 [==============================] - 1s 1s/step - loss: 0.6825 - accuracy: 0.8000 - val_loss: 0.6910 - val_accuracy: 0.7143\n",
      "Epoch 17/200\n",
      "1/1 [==============================] - 1s 1s/step - loss: 0.6841 - accuracy: 0.7818 - val_loss: 0.6910 - val_accuracy: 0.7143\n",
      "Epoch 18/200\n",
      "1/1 [==============================] - 1s 1s/step - loss: 0.6820 - accuracy: 0.7636 - val_loss: 0.6910 - val_accuracy: 0.5714\n",
      "Epoch 19/200\n",
      "1/1 [==============================] - 1s 1s/step - loss: 0.6819 - accuracy: 0.7636 - val_loss: 0.6909 - val_accuracy: 0.5714\n",
      "Epoch 20/200\n",
      "1/1 [==============================] - 1s 1s/step - loss: 0.6778 - accuracy: 0.8182 - val_loss: 0.6908 - val_accuracy: 0.5714\n",
      "Epoch 21/200\n",
      "1/1 [==============================] - 1s 1s/step - loss: 0.6808 - accuracy: 0.8000 - val_loss: 0.6908 - val_accuracy: 0.5714\n",
      "Epoch 22/200\n",
      "1/1 [==============================] - 1s 1s/step - loss: 0.6800 - accuracy: 0.8000 - val_loss: 0.6907 - val_accuracy: 0.5714\n",
      "Epoch 23/200\n",
      "1/1 [==============================] - 1s 1s/step - loss: 0.6784 - accuracy: 0.8000 - val_loss: 0.6905 - val_accuracy: 0.5714\n",
      "Epoch 24/200\n",
      "1/1 [==============================] - 1s 1s/step - loss: 0.6752 - accuracy: 0.8000 - val_loss: 0.6905 - val_accuracy: 0.5714\n",
      "Epoch 25/200\n",
      "1/1 [==============================] - 2s 2s/step - loss: 0.6764 - accuracy: 0.8182 - val_loss: 0.6904 - val_accuracy: 0.5714\n",
      "Epoch 26/200\n",
      "1/1 [==============================] - 1s 1s/step - loss: 0.6782 - accuracy: 0.7818 - val_loss: 0.6902 - val_accuracy: 0.5714\n",
      "Epoch 27/200\n",
      "1/1 [==============================] - 1s 1s/step - loss: 0.6766 - accuracy: 0.8000 - val_loss: 0.6902 - val_accuracy: 0.5714\n",
      "Epoch 28/200\n",
      "1/1 [==============================] - 2s 2s/step - loss: 0.6769 - accuracy: 0.7636 - val_loss: 0.6901 - val_accuracy: 0.5714\n",
      "Epoch 29/200\n",
      "1/1 [==============================] - 2s 2s/step - loss: 0.6751 - accuracy: 0.7818 - val_loss: 0.6900 - val_accuracy: 0.5714\n",
      "Epoch 30/200\n",
      "1/1 [==============================] - 1s 1s/step - loss: 0.6734 - accuracy: 0.8000 - val_loss: 0.6899 - val_accuracy: 0.5714\n",
      "Epoch 31/200\n",
      "1/1 [==============================] - 1s 1s/step - loss: 0.6682 - accuracy: 0.8000 - val_loss: 0.6898 - val_accuracy: 0.5714\n",
      "Epoch 32/200\n",
      "1/1 [==============================] - 1s 1s/step - loss: 0.6695 - accuracy: 0.8000 - val_loss: 0.6896 - val_accuracy: 0.5714\n",
      "Epoch 33/200\n",
      "1/1 [==============================] - 1s 1s/step - loss: 0.6712 - accuracy: 0.8000 - val_loss: 0.6895 - val_accuracy: 0.5714\n",
      "Epoch 34/200\n",
      "1/1 [==============================] - 2s 2s/step - loss: 0.6716 - accuracy: 0.8182 - val_loss: 0.6894 - val_accuracy: 0.5714\n",
      "Epoch 35/200\n",
      "1/1 [==============================] - 1s 1s/step - loss: 0.6719 - accuracy: 0.8182 - val_loss: 0.6893 - val_accuracy: 0.5714\n",
      "Epoch 36/200\n",
      "1/1 [==============================] - 1s 1s/step - loss: 0.6695 - accuracy: 0.8000 - val_loss: 0.6892 - val_accuracy: 0.5714\n",
      "Epoch 37/200\n",
      "1/1 [==============================] - 2s 2s/step - loss: 0.6668 - accuracy: 0.8182 - val_loss: 0.6890 - val_accuracy: 0.5714\n",
      "Epoch 38/200\n",
      "1/1 [==============================] - 1s 1s/step - loss: 0.6691 - accuracy: 0.7818 - val_loss: 0.6889 - val_accuracy: 0.5714\n",
      "Epoch 39/200\n",
      "1/1 [==============================] - 1s 1s/step - loss: 0.6675 - accuracy: 0.7818 - val_loss: 0.6888 - val_accuracy: 0.5714\n",
      "Epoch 40/200\n"
     ]
    }
   ],
   "source": [
    "history = model.fit(\n",
    "    train_x_data,\n",
    "    train_y_data,\n",
    "    epochs=args.epochs,\n",
    "    batch_size=args.batch_size,\n",
    "    validation_split=0.1,\n",
    "    verbose=1,\n",
    "    shuffle=True,\n",
    ")"
   ]
  },
  {
   "cell_type": "code",
   "execution_count": null,
   "metadata": {},
   "outputs": [
    {
     "name": "stdout",
     "output_type": "stream",
     "text": [
      "Model: \"sequential\"\n",
      "_________________________________________________________________\n",
      " Layer (type)                Output Shape              Param #   \n",
      "=================================================================\n",
      " embedding (Embedding)       (None, None, 16)          800       \n",
      "                                                                 \n",
      " bidirectional (Bidirection  (None, 64)                9600      \n",
      " al)                                                             \n",
      "                                                                 \n",
      " dense (Dense)               (None, 32)                2080      \n",
      "                                                                 \n",
      " dropout (Dropout)           (None, 32)                0         \n",
      "                                                                 \n",
      " dense_1 (Dense)             (None, 1)                 33        \n",
      "                                                                 \n",
      "=================================================================\n",
      "Total params: 12513 (48.88 KB)\n",
      "Trainable params: 12513 (48.88 KB)\n",
      "Non-trainable params: 0 (0.00 Byte)\n"
     ]
    },
    {
     "name": "stdout",
     "output_type": "stream",
     "text": [
      "_________________________________________________________________\n"
     ]
    },
    {
     "name": "stderr",
     "output_type": "stream",
     "text": [
      "/home/jithin/anaconda3/lib/python3.11/site-packages/keras/src/engine/training.py:3079: UserWarning: You are saving your model as an HDF5 file via `model.save()`. This file format is considered legacy. We recommend using instead the native Keras format, e.g. `model.save('my_model.keras')`.\n",
      "  saving_api.save_model(\n"
     ]
    }
   ],
   "source": [
    "if args.verbose:\n",
    "    model.summary()\n",
    "model.save(args.Save_file, overwrite=False)"
   ]
  },
  {
   "cell_type": "code",
   "execution_count": null,
   "metadata": {},
   "outputs": [
    {
     "data": {
      "image/png": "[encoded data removed]",
      "text/plain": [
       "<Figure size 640x480 with 1 Axes>"
      ]
     },
     "metadata": {},
     "output_type": "display_data"
    }
   ],
   "source": [
    "# To plot the results\n",
    "import matplotlib.pyplot as plt\n",
    "\n",
    "acc = history.history['accuracy']\n",
    "val_acc = history.history['val_accuracy']\n",
    "loss = history.history['loss']\n",
    "val_loss = history.history['val_loss']\n",
    "epochs = range(1, len(acc) + 1)\n",
    "plt.plot(epochs, acc, 'ro', label='Training acc')\n",
    "plt.plot(epochs, val_acc, 'r', label='Validation acc')\n",
    "\n",
    "plt.title('Training and validation accuracy')\n",
    "plt.legend()\n",
    "plt.savefig('test_results_acc.png')\n",
    "\n",
    "plt.close()\n",
    "plt.plot(epochs, loss, 'bo', label='Training loss')\n",
    "plt.plot(epochs, val_loss, 'b', label='Validation loss')\n",
    "plt.title('Training and validation loss')\n",
    "plt.legend()\n",
    "plt.savefig('test_results_loss.png')\n"
   ]
  },
  {
   "cell_type": "code",
   "execution_count": null,
   "metadata": {},
   "outputs": [],
   "source": []
  }
 ],
 "metadata": {
  "kernelspec": {
   "display_name": "base",
   "language": "python",
   "name": "python3"
  },
  "language_info": {
   "codemirror_mode": {
    "name": "ipython",
    "version": 3
   },
   "file_extension": ".py",
   "mimetype": "text/x-python",
   "name": "python",
   "nbconvert_exporter": "python",
   "pygments_lexer": "ipython3",
   "version": "3.11.5"
  }
 },
 "nbformat": 4,
 "nbformat_minor": 2
}
