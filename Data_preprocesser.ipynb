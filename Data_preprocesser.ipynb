{
 "cells": [
  {
   "cell_type": "code",
   "execution_count": 1,
   "metadata": {},
   "outputs": [
    {
     "name": "stdout",
     "output_type": "stream",
     "text": [
      "   No.      Time     Source Destination Protocol  Length  \\\n",
      "0    1  0.000000  10.8.0.61     8.8.8.8      DNS      76   \n",
      "1    2  0.016637  10.8.0.61     8.8.8.8      TCP      60   \n",
      "2    3  0.017375    8.8.8.8   10.8.0.61      TCP      60   \n",
      "3    4  0.017912    8.8.8.8   10.8.0.61      DNS      92   \n",
      "4    5  0.020687  10.8.0.61     8.8.8.8      TCP      52   \n",
      "\n",
      "                                                Info Target  \n",
      "0  Standard query 0x04da A infinitedata-pa.google...  RAT01  \n",
      "1  45949  >  853 [SYN] Seq=0 Win=65535 Len=0 MSS=...  RAT01  \n",
      "2  853  >  45949 [SYN, ACK] Seq=0 Ack=1 Win=60192...  RAT01  \n",
      "3  Standard query response 0x04da A infinitedata-...  RAT01  \n",
      "4  45949  >  853 [ACK] Seq=1 Ack=1 Win=88064 Len=...  RAT01  \n"
     ]
    }
   ],
   "source": [
    "import pandas as pd\n",
    "file_name = 'RAT01.csv'  # Construct the file name\n",
    "df = pd.read_csv(file_name)  # Read the CSV file into a DataFrame\n",
    "df['Target'] = file_name[:-4]  # Add an 'Target' column with values as filename without extection\n",
    "print(df.head())  # Print the first 5 rows of the DataFrame"
   ]
  },
  {
   "cell_type": "code",
   "execution_count": 2,
   "metadata": {},
   "outputs": [
    {
     "data": {
      "text/plain": [
       "(89733, 7)"
      ]
     },
     "execution_count": 2,
     "metadata": {},
     "output_type": "execute_result"
    }
   ],
   "source": [
    "Y = df['Target']\n",
    "Y = Y.map({'RAT01':0,\n",
    "           'RAT02':1,'RAT03':2,'RAT04':3,'RAT05':4,'RAT06':5,'RAT07':6,'RAT08':7})\n",
    "X = df.drop(\"Target\",axis=1)\n",
    "X.shape"
   ]
  },
  {
   "cell_type": "code",
   "execution_count": 3,
   "metadata": {},
   "outputs": [
    {
     "data": {
      "text/plain": [
       "Source\n",
       "10.8.0.61          44945\n",
       "157.240.30.27      15618\n",
       "147.32.83.234      14863\n",
       "157.240.30.63       2010\n",
       "216.58.201.110      1467\n",
       "195.113.214.206     1464\n",
       "216.58.201.67       1143\n",
       "216.58.201.68       1086\n",
       "195.113.214.205      995\n",
       "52.222.137.208       721\n",
       "Name: count, dtype: int64"
      ]
     },
     "execution_count": 3,
     "metadata": {},
     "output_type": "execute_result"
    }
   ],
   "source": [
    "X.Source.value_counts().sort_values(ascending=False).head(10)"
   ]
  },
  {
   "cell_type": "code",
   "execution_count": 4,
   "metadata": {},
   "outputs": [
    {
     "data": {
      "text/plain": [
       "['10.8.0.61',\n",
       " '157.240.30.27',\n",
       " '147.32.83.234',\n",
       " '157.240.30.63',\n",
       " '216.58.201.110',\n",
       " '195.113.214.206',\n",
       " '216.58.201.67',\n",
       " '216.58.201.68',\n",
       " '195.113.214.205',\n",
       " '52.222.137.208']"
      ]
     },
     "execution_count": 4,
     "metadata": {},
     "output_type": "execute_result"
    }
   ],
   "source": [
    "top_10 = [x for x in X.Source.value_counts().sort_values(ascending=False).head(10).index]\n",
    "top_10"
   ]
  },
  {
   "cell_type": "code",
   "execution_count": 5,
   "metadata": {},
   "outputs": [
    {
     "data": {
      "text/html": [
       "<div>\n",
       "<style scoped>\n",
       "    .dataframe tbody tr th:only-of-type {\n",
       "        vertical-align: middle;\n",
       "    }\n",
       "\n",
       "    .dataframe tbody tr th {\n",
       "        vertical-align: top;\n",
       "    }\n",
       "\n",
       "    .dataframe thead th {\n",
       "        text-align: right;\n",
       "    }\n",
       "</style>\n",
       "<table border=\"1\" class=\"dataframe\">\n",
       "  <thead>\n",
       "    <tr style=\"text-align: right;\">\n",
       "      <th></th>\n",
       "      <th>Source</th>\n",
       "      <th>10.8.0.61</th>\n",
       "      <th>157.240.30.27</th>\n",
       "      <th>147.32.83.234</th>\n",
       "      <th>157.240.30.63</th>\n",
       "      <th>216.58.201.110</th>\n",
       "      <th>195.113.214.206</th>\n",
       "      <th>216.58.201.67</th>\n",
       "      <th>216.58.201.68</th>\n",
       "      <th>195.113.214.205</th>\n",
       "      <th>52.222.137.208</th>\n",
       "    </tr>\n",
       "  </thead>\n",
       "  <tbody>\n",
       "    <tr>\n",
       "      <th>0</th>\n",
       "      <td>10.8.0.61</td>\n",
       "      <td>1</td>\n",
       "      <td>0</td>\n",
       "      <td>0</td>\n",
       "      <td>0</td>\n",
       "      <td>0</td>\n",
       "      <td>0</td>\n",
       "      <td>0</td>\n",
       "      <td>0</td>\n",
       "      <td>0</td>\n",
       "      <td>0</td>\n",
       "    </tr>\n",
       "    <tr>\n",
       "      <th>1</th>\n",
       "      <td>10.8.0.61</td>\n",
       "      <td>1</td>\n",
       "      <td>0</td>\n",
       "      <td>0</td>\n",
       "      <td>0</td>\n",
       "      <td>0</td>\n",
       "      <td>0</td>\n",
       "      <td>0</td>\n",
       "      <td>0</td>\n",
       "      <td>0</td>\n",
       "      <td>0</td>\n",
       "    </tr>\n",
       "    <tr>\n",
       "      <th>2</th>\n",
       "      <td>8.8.8.8</td>\n",
       "      <td>0</td>\n",
       "      <td>0</td>\n",
       "      <td>0</td>\n",
       "      <td>0</td>\n",
       "      <td>0</td>\n",
       "      <td>0</td>\n",
       "      <td>0</td>\n",
       "      <td>0</td>\n",
       "      <td>0</td>\n",
       "      <td>0</td>\n",
       "    </tr>\n",
       "    <tr>\n",
       "      <th>3</th>\n",
       "      <td>8.8.8.8</td>\n",
       "      <td>0</td>\n",
       "      <td>0</td>\n",
       "      <td>0</td>\n",
       "      <td>0</td>\n",
       "      <td>0</td>\n",
       "      <td>0</td>\n",
       "      <td>0</td>\n",
       "      <td>0</td>\n",
       "      <td>0</td>\n",
       "      <td>0</td>\n",
       "    </tr>\n",
       "    <tr>\n",
       "      <th>4</th>\n",
       "      <td>10.8.0.61</td>\n",
       "      <td>1</td>\n",
       "      <td>0</td>\n",
       "      <td>0</td>\n",
       "      <td>0</td>\n",
       "      <td>0</td>\n",
       "      <td>0</td>\n",
       "      <td>0</td>\n",
       "      <td>0</td>\n",
       "      <td>0</td>\n",
       "      <td>0</td>\n",
       "    </tr>\n",
       "  </tbody>\n",
       "</table>\n",
       "</div>"
      ],
      "text/plain": [
       "      Source  10.8.0.61  157.240.30.27  147.32.83.234  157.240.30.63  \\\n",
       "0  10.8.0.61          1              0              0              0   \n",
       "1  10.8.0.61          1              0              0              0   \n",
       "2    8.8.8.8          0              0              0              0   \n",
       "3    8.8.8.8          0              0              0              0   \n",
       "4  10.8.0.61          1              0              0              0   \n",
       "\n",
       "   216.58.201.110  195.113.214.206  216.58.201.67  216.58.201.68  \\\n",
       "0               0                0              0              0   \n",
       "1               0                0              0              0   \n",
       "2               0                0              0              0   \n",
       "3               0                0              0              0   \n",
       "4               0                0              0              0   \n",
       "\n",
       "   195.113.214.205  52.222.137.208  \n",
       "0                0               0  \n",
       "1                0               0  \n",
       "2                0               0  \n",
       "3                0               0  \n",
       "4                0               0  "
      ]
     },
     "execution_count": 5,
     "metadata": {},
     "output_type": "execute_result"
    }
   ],
   "source": [
    "import numpy as np\n",
    "for label in top_10:\n",
    "    X[label]=np.where(X['Source']==label,1,0)\n",
    "X[['Source']+top_10].head(5)"
   ]
  },
  {
   "cell_type": "code",
   "execution_count": 6,
   "metadata": {},
   "outputs": [
    {
     "data": {
      "text/plain": [
       "['10.8.0.61',\n",
       " '147.32.83.234',\n",
       " '157.240.30.63',\n",
       " '157.240.30.27',\n",
       " '8.8.8.8',\n",
       " '195.113.214.206',\n",
       " '216.58.201.67',\n",
       " '172.217.23.202',\n",
       " '195.113.214.205',\n",
       " '216.58.201.110']"
      ]
     },
     "execution_count": 6,
     "metadata": {},
     "output_type": "execute_result"
    }
   ],
   "source": [
    "top_10 = [x for x in X.Destination.value_counts().sort_values(ascending=False).head(10).index]\n",
    "top_10"
   ]
  },
  {
   "cell_type": "code",
   "execution_count": 7,
   "metadata": {},
   "outputs": [
    {
     "data": {
      "text/html": [
       "<div>\n",
       "<style scoped>\n",
       "    .dataframe tbody tr th:only-of-type {\n",
       "        vertical-align: middle;\n",
       "    }\n",
       "\n",
       "    .dataframe tbody tr th {\n",
       "        vertical-align: top;\n",
       "    }\n",
       "\n",
       "    .dataframe thead th {\n",
       "        text-align: right;\n",
       "    }\n",
       "</style>\n",
       "<table border=\"1\" class=\"dataframe\">\n",
       "  <thead>\n",
       "    <tr style=\"text-align: right;\">\n",
       "      <th></th>\n",
       "      <th>Destination</th>\n",
       "      <th>10.8.0.61</th>\n",
       "      <th>147.32.83.234</th>\n",
       "      <th>157.240.30.63</th>\n",
       "      <th>157.240.30.27</th>\n",
       "      <th>8.8.8.8</th>\n",
       "      <th>195.113.214.206</th>\n",
       "      <th>216.58.201.67</th>\n",
       "      <th>172.217.23.202</th>\n",
       "      <th>195.113.214.205</th>\n",
       "      <th>216.58.201.110</th>\n",
       "    </tr>\n",
       "  </thead>\n",
       "  <tbody>\n",
       "    <tr>\n",
       "      <th>0</th>\n",
       "      <td>8.8.8.8</td>\n",
       "      <td>0</td>\n",
       "      <td>0</td>\n",
       "      <td>0</td>\n",
       "      <td>0</td>\n",
       "      <td>1</td>\n",
       "      <td>0</td>\n",
       "      <td>0</td>\n",
       "      <td>0</td>\n",
       "      <td>0</td>\n",
       "      <td>0</td>\n",
       "    </tr>\n",
       "    <tr>\n",
       "      <th>1</th>\n",
       "      <td>8.8.8.8</td>\n",
       "      <td>0</td>\n",
       "      <td>0</td>\n",
       "      <td>0</td>\n",
       "      <td>0</td>\n",
       "      <td>1</td>\n",
       "      <td>0</td>\n",
       "      <td>0</td>\n",
       "      <td>0</td>\n",
       "      <td>0</td>\n",
       "      <td>0</td>\n",
       "    </tr>\n",
       "    <tr>\n",
       "      <th>2</th>\n",
       "      <td>10.8.0.61</td>\n",
       "      <td>1</td>\n",
       "      <td>0</td>\n",
       "      <td>0</td>\n",
       "      <td>0</td>\n",
       "      <td>0</td>\n",
       "      <td>0</td>\n",
       "      <td>0</td>\n",
       "      <td>0</td>\n",
       "      <td>0</td>\n",
       "      <td>0</td>\n",
       "    </tr>\n",
       "    <tr>\n",
       "      <th>3</th>\n",
       "      <td>10.8.0.61</td>\n",
       "      <td>1</td>\n",
       "      <td>0</td>\n",
       "      <td>0</td>\n",
       "      <td>0</td>\n",
       "      <td>0</td>\n",
       "      <td>0</td>\n",
       "      <td>0</td>\n",
       "      <td>0</td>\n",
       "      <td>0</td>\n",
       "      <td>0</td>\n",
       "    </tr>\n",
       "    <tr>\n",
       "      <th>4</th>\n",
       "      <td>8.8.8.8</td>\n",
       "      <td>0</td>\n",
       "      <td>0</td>\n",
       "      <td>0</td>\n",
       "      <td>0</td>\n",
       "      <td>1</td>\n",
       "      <td>0</td>\n",
       "      <td>0</td>\n",
       "      <td>0</td>\n",
       "      <td>0</td>\n",
       "      <td>0</td>\n",
       "    </tr>\n",
       "  </tbody>\n",
       "</table>\n",
       "</div>"
      ],
      "text/plain": [
       "  Destination  10.8.0.61  147.32.83.234  157.240.30.63  157.240.30.27  \\\n",
       "0     8.8.8.8          0              0              0              0   \n",
       "1     8.8.8.8          0              0              0              0   \n",
       "2   10.8.0.61          1              0              0              0   \n",
       "3   10.8.0.61          1              0              0              0   \n",
       "4     8.8.8.8          0              0              0              0   \n",
       "\n",
       "   8.8.8.8  195.113.214.206  216.58.201.67  172.217.23.202  195.113.214.205  \\\n",
       "0        1                0              0               0                0   \n",
       "1        1                0              0               0                0   \n",
       "2        0                0              0               0                0   \n",
       "3        0                0              0               0                0   \n",
       "4        1                0              0               0                0   \n",
       "\n",
       "   216.58.201.110  \n",
       "0               0  \n",
       "1               0  \n",
       "2               0  \n",
       "3               0  \n",
       "4               0  "
      ]
     },
     "execution_count": 7,
     "metadata": {},
     "output_type": "execute_result"
    }
   ],
   "source": [
    "for label in top_10:\n",
    "    X[label]=np.where(X['Destination']==label,1,0)\n",
    "X[['Destination']+top_10].head(5)"
   ]
  },
  {
   "cell_type": "code",
   "execution_count": 8,
   "metadata": {},
   "outputs": [
    {
     "data": {
      "text/plain": [
       "['TCP',\n",
       " 'QUIC',\n",
       " 'TLSv1.3',\n",
       " 'GQUIC',\n",
       " 'TLSv1.2',\n",
       " 'ICMP',\n",
       " 'SSL',\n",
       " 'TLSv1',\n",
       " 'HTTP',\n",
       " 'NTP']"
      ]
     },
     "execution_count": 8,
     "metadata": {},
     "output_type": "execute_result"
    }
   ],
   "source": [
    "top_10 = [x for x in X.Protocol.value_counts().sort_values(ascending=False).head(10).index]\n",
    "top_10"
   ]
  },
  {
   "cell_type": "code",
   "execution_count": 9,
   "metadata": {},
   "outputs": [
    {
     "data": {
      "text/html": [
       "<div>\n",
       "<style scoped>\n",
       "    .dataframe tbody tr th:only-of-type {\n",
       "        vertical-align: middle;\n",
       "    }\n",
       "\n",
       "    .dataframe tbody tr th {\n",
       "        vertical-align: top;\n",
       "    }\n",
       "\n",
       "    .dataframe thead th {\n",
       "        text-align: right;\n",
       "    }\n",
       "</style>\n",
       "<table border=\"1\" class=\"dataframe\">\n",
       "  <thead>\n",
       "    <tr style=\"text-align: right;\">\n",
       "      <th></th>\n",
       "      <th>Protocol</th>\n",
       "      <th>TCP</th>\n",
       "      <th>QUIC</th>\n",
       "      <th>TLSv1.3</th>\n",
       "      <th>GQUIC</th>\n",
       "      <th>TLSv1.2</th>\n",
       "      <th>ICMP</th>\n",
       "      <th>SSL</th>\n",
       "      <th>TLSv1</th>\n",
       "      <th>HTTP</th>\n",
       "      <th>NTP</th>\n",
       "    </tr>\n",
       "  </thead>\n",
       "  <tbody>\n",
       "    <tr>\n",
       "      <th>0</th>\n",
       "      <td>DNS</td>\n",
       "      <td>0</td>\n",
       "      <td>0</td>\n",
       "      <td>0</td>\n",
       "      <td>0</td>\n",
       "      <td>0</td>\n",
       "      <td>0</td>\n",
       "      <td>0</td>\n",
       "      <td>0</td>\n",
       "      <td>0</td>\n",
       "      <td>0</td>\n",
       "    </tr>\n",
       "    <tr>\n",
       "      <th>1</th>\n",
       "      <td>TCP</td>\n",
       "      <td>1</td>\n",
       "      <td>0</td>\n",
       "      <td>0</td>\n",
       "      <td>0</td>\n",
       "      <td>0</td>\n",
       "      <td>0</td>\n",
       "      <td>0</td>\n",
       "      <td>0</td>\n",
       "      <td>0</td>\n",
       "      <td>0</td>\n",
       "    </tr>\n",
       "    <tr>\n",
       "      <th>2</th>\n",
       "      <td>TCP</td>\n",
       "      <td>1</td>\n",
       "      <td>0</td>\n",
       "      <td>0</td>\n",
       "      <td>0</td>\n",
       "      <td>0</td>\n",
       "      <td>0</td>\n",
       "      <td>0</td>\n",
       "      <td>0</td>\n",
       "      <td>0</td>\n",
       "      <td>0</td>\n",
       "    </tr>\n",
       "    <tr>\n",
       "      <th>3</th>\n",
       "      <td>DNS</td>\n",
       "      <td>0</td>\n",
       "      <td>0</td>\n",
       "      <td>0</td>\n",
       "      <td>0</td>\n",
       "      <td>0</td>\n",
       "      <td>0</td>\n",
       "      <td>0</td>\n",
       "      <td>0</td>\n",
       "      <td>0</td>\n",
       "      <td>0</td>\n",
       "    </tr>\n",
       "    <tr>\n",
       "      <th>4</th>\n",
       "      <td>TCP</td>\n",
       "      <td>1</td>\n",
       "      <td>0</td>\n",
       "      <td>0</td>\n",
       "      <td>0</td>\n",
       "      <td>0</td>\n",
       "      <td>0</td>\n",
       "      <td>0</td>\n",
       "      <td>0</td>\n",
       "      <td>0</td>\n",
       "      <td>0</td>\n",
       "    </tr>\n",
       "  </tbody>\n",
       "</table>\n",
       "</div>"
      ],
      "text/plain": [
       "  Protocol  TCP  QUIC  TLSv1.3  GQUIC  TLSv1.2  ICMP  SSL  TLSv1  HTTP  NTP\n",
       "0      DNS    0     0        0      0        0     0    0      0     0    0\n",
       "1      TCP    1     0        0      0        0     0    0      0     0    0\n",
       "2      TCP    1     0        0      0        0     0    0      0     0    0\n",
       "3      DNS    0     0        0      0        0     0    0      0     0    0\n",
       "4      TCP    1     0        0      0        0     0    0      0     0    0"
      ]
     },
     "execution_count": 9,
     "metadata": {},
     "output_type": "execute_result"
    }
   ],
   "source": [
    "for label in top_10:\n",
    "    X[label]=np.where(X['Protocol']==label,1,0)\n",
    "X[['Protocol']+top_10].head(5)"
   ]
  },
  {
   "cell_type": "code",
   "execution_count": 10,
   "metadata": {},
   "outputs": [
    {
     "data": {
      "text/plain": [
       "Index(['No.', 'Time', 'Length', '10.8.0.61', '157.240.30.27', '147.32.83.234',\n",
       "       '157.240.30.63', '216.58.201.110', '195.113.214.206', '216.58.201.67',\n",
       "       '216.58.201.68', '195.113.214.205', '52.222.137.208', '8.8.8.8',\n",
       "       '172.217.23.202', 'TCP', 'QUIC', 'TLSv1.3', 'GQUIC', 'TLSv1.2', 'ICMP',\n",
       "       'SSL', 'TLSv1', 'HTTP', 'NTP'],\n",
       "      dtype='object')"
      ]
     },
     "execution_count": 10,
     "metadata": {},
     "output_type": "execute_result"
    }
   ],
   "source": [
    "X.drop(['Source','Destination','Protocol','Info'],axis=1,inplace=True)\n",
    "X.columns"
   ]
  },
  {
   "cell_type": "code",
   "execution_count": 11,
   "metadata": {},
   "outputs": [
    {
     "data": {
      "text/plain": [
       "(89733, 25)"
      ]
     },
     "execution_count": 11,
     "metadata": {},
     "output_type": "execute_result"
    }
   ],
   "source": [
    "from sklearn.preprocessing import StandardScaler\n",
    "sc = StandardScaler()\n",
    "x_train = sc.fit_transform(X)\n",
    "x_train.shape"
   ]
  },
  {
   "cell_type": "code",
   "execution_count": 12,
   "metadata": {},
   "outputs": [
    {
     "ename": "ValueError",
     "evalue": "could not broadcast input array from shape (0,) into shape (26,)",
     "output_type": "error",
     "traceback": [
      "\u001b[0;31m---------------------------------------------------------------------------\u001b[0m",
      "\u001b[0;31mValueError\u001b[0m                                Traceback (most recent call last)",
      "\u001b[1;32m/home/jithin/Documents/3rd_Year/AI_AND_ML/Android_Rat/RAT_DETECTION_USING_RANDOM_FOREST/Data_preprocesser.ipynb Cell 12\u001b[0m line \u001b[0;36m2\n\u001b[1;32m     <a href='vscode-notebook-cell:/home/jithin/Documents/3rd_Year/AI_AND_ML/Android_Rat/RAT_DETECTION_USING_RANDOM_FOREST/Data_preprocesser.ipynb#X14sZmlsZQ%3D%3D?line=24'>25</a>\u001b[0m resized_array \u001b[39m=\u001b[39m np\u001b[39m.\u001b[39mresize(original_array, desired_length)\n\u001b[1;32m     <a href='vscode-notebook-cell:/home/jithin/Documents/3rd_Year/AI_AND_ML/Android_Rat/RAT_DETECTION_USING_RANDOM_FOREST/Data_preprocesser.ipynb#X14sZmlsZQ%3D%3D?line=26'>27</a>\u001b[0m \u001b[39m# Add the additional values\u001b[39;00m\n\u001b[0;32m---> <a href='vscode-notebook-cell:/home/jithin/Documents/3rd_Year/AI_AND_ML/Android_Rat/RAT_DETECTION_USING_RANDOM_FOREST/Data_preprocesser.ipynb#X14sZmlsZQ%3D%3D?line=27'>28</a>\u001b[0m resized_array[\u001b[39m-\u001b[39;49melements_to_add:] \u001b[39m=\u001b[39m additional_values\n\u001b[1;32m     <a href='vscode-notebook-cell:/home/jithin/Documents/3rd_Year/AI_AND_ML/Android_Rat/RAT_DETECTION_USING_RANDOM_FOREST/Data_preprocesser.ipynb#X14sZmlsZQ%3D%3D?line=29'>30</a>\u001b[0m \u001b[39mprint\u001b[39m(resized_array)\n",
      "\u001b[0;31mValueError\u001b[0m: could not broadcast input array from shape (0,) into shape (26,)"
     ]
    }
   ],
   "source": [
    "import numpy as np\n",
    "\n",
    "# Create your original array\n",
    "original_array = np.array([-1.73203151e+00, -1.48813898e+00, -1.31238633e+00, -9.98251893e-01,\n",
    "       -1.25022635e-01, -7.70938602e-01, -1.47748891e-01, -6.84110001e-02,\n",
    "       -9.33379689e-02, -8.82214196e-02, -1.10683502e-01, -7.24850177e-02,\n",
    "       -9.00001748e-02,  1.05702365e+01, -7.37176739e-02, -1.52760224e+00,\n",
    "       -4.91319705e-01, -1.99146598e-01, -1.87323644e-01, -1.80523705e-01,\n",
    "       -3.09728626e-02, -2.65061524e-02, -8.83262651e-03, -8.17737758e-03,\n",
    "       -8.17737758e-03, 0])\n",
    "\n",
    "# Check the length of the original array\n",
    "original_length = len(original_array)\n",
    "\n",
    "# Define the desired length (e.g., 26)\n",
    "desired_length = 26\n",
    "\n",
    "# Calculate the number of elements to be added\n",
    "elements_to_add = desired_length - original_length\n",
    "\n",
    "# Create an array with the additional values (you can customize these values)\n",
    "additional_values = np.array([0] * elements_to_add)  # In this example, we're adding zeros\n",
    "\n",
    "# Resize the original array to the desired length\n",
    "resized_array = np.resize(original_array, desired_length)\n",
    "\n",
    "# Add the additional values\n",
    "resized_array[-elements_to_add:] = additional_values\n",
    "\n",
    "print(resized_array)\n"
   ]
  },
  {
   "cell_type": "code",
   "execution_count": null,
   "metadata": {},
   "outputs": [
    {
     "data": {
      "text/plain": [
       "(89733, 25)"
      ]
     },
     "execution_count": 49,
     "metadata": {},
     "output_type": "execute_result"
    }
   ],
   "source": [
    "x_train.shape"
   ]
  },
  {
   "cell_type": "code",
   "execution_count": null,
   "metadata": {},
   "outputs": [],
   "source": []
  }
 ],
 "metadata": {
  "kernelspec": {
   "display_name": "Python 3",
   "language": "python",
   "name": "python3"
  },
  "language_info": {
   "codemirror_mode": {
    "name": "ipython",
    "version": 3
   },
   "file_extension": ".py",
   "mimetype": "text/x-python",
   "name": "python",
   "nbconvert_exporter": "python",
   "pygments_lexer": "ipython3",
   "version": "3.11.5"
  }
 },
 "nbformat": 4,
 "nbformat_minor": 2
}
